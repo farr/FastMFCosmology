{
 "cells": [
  {
   "attachments": {},
   "cell_type": "markdown",
   "metadata": {},
   "source": [
    "# Changing to Logspace\n",
    "Switching to logspace for the mass and luminosity distances for the fitting. Hopefully this should produce a better fit since now the KDE estimates cannot go into negative galues in logspace and the uncertainty scales better with the means"
   ]
  },
  {
   "cell_type": "code",
   "execution_count": 1,
   "metadata": {},
   "outputs": [],
   "source": [
    "import numpy as np\n",
    "from scipy.stats import gaussian_kde\n",
    "import pymc as pm\n",
    "from pylab import *\n",
    "import arviz as az\n",
    "from astropy.cosmology import Planck18\n",
    "from tqdm import tqdm\n",
    "import seaborn as sns\n",
    "from MCMC_functions import *\n",
    "from astropy.cosmology import units as cu\n",
    "\n",
    "sns.set_context('notebook')\n",
    "sns.set_palette('colorblind')\n",
    "\n",
    "import matplotlib\n",
    "matplotlib.rcParams['font.family'] = 'serif' # so these plots can go into thesis\n",
    "\n",
    "\n",
    "%matplotlib inline"
   ]
  },
  {
   "cell_type": "code",
   "execution_count": null,
   "metadata": {},
   "outputs": [],
   "source": []
  }
 ],
 "metadata": {
  "kernelspec": {
   "display_name": "base",
   "language": "python",
   "name": "python3"
  },
  "language_info": {
   "codemirror_mode": {
    "name": "ipython",
    "version": 3
   },
   "file_extension": ".py",
   "mimetype": "text/x-python",
   "name": "python",
   "nbconvert_exporter": "python",
   "pygments_lexer": "ipython3",
   "version": "3.9.7"
  },
  "orig_nbformat": 4
 },
 "nbformat": 4,
 "nbformat_minor": 2
}
