{
 "cells": [
  {
   "attachments": {},
   "cell_type": "markdown",
   "metadata": {},
   "source": [
    "# Directly Removing the Power Law Before Making the KDE\n",
    "Now that a decent way to ignore the power law has been found and used in both `Bootstrap-Own-Data.ipynb` and `Emperical-Errors.ipynb`, let's test to see what it does when instead we try to remove the power law much earlier. This will be done for both the bootstrapping method and also the emperical errors method"
   ]
  },
  {
   "cell_type": "code",
   "execution_count": null,
   "metadata": {},
   "outputs": [],
   "source": []
  }
 ],
 "metadata": {
  "language_info": {
   "name": "python"
  },
  "orig_nbformat": 4
 },
 "nbformat": 4,
 "nbformat_minor": 2
}
