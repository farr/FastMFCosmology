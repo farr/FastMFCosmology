{
 "cells": [
  {
   "cell_type": "markdown",
   "id": "2d7ec124",
   "metadata": {},
   "source": [
    "# Making Own Mock Data\n",
    "The last bit of mock data that was tried (in `work-with-true.ipynb`) already contained selection effects that distorted the 35M$_\\odot$ bump that the code was trying to pin down. To see if the algorithm can even handle it at all and to see what the selection effects do to the analysis, mock data data without selection effects need to be generated and tested, which is what we're doing here"
   ]
  },
  {
   "cell_type": "code",
   "execution_count": 1,
   "id": "f6529a1e",
   "metadata": {},
   "outputs": [],
   "source": [
    "import h5py\n",
    "import pandas as pd\n",
    "import glob\n",
    "import numpy as np\n",
    "from scipy.stats import gaussian_kde\n",
    "import pymc as pm\n",
    "from pylab import *\n",
    "import aesara.tensor as at\n",
    "import aesara.tensor.extra_ops as ate\n",
    "import arviz as az\n",
    "from astropy import units as u\n",
    "from astropy import constants as con\n",
    "from astropy.cosmology import Planck18\n",
    "from scipy.integrate import quad\n",
    "from tqdm import tqdm\n",
    "import warnings\n",
    "from scipy import integrate\n",
    "import seaborn as sns\n",
    "\n",
    "sns.set_context('notebook')\n",
    "sns.set_palette('colorblind')\n",
    "\n",
    "%matplotlib inline"
   ]
  },
  {
   "cell_type": "markdown",
   "id": "419f8ff6",
   "metadata": {},
   "source": [
    "## Generating data points"
   ]
  },
  {
   "cell_type": "code",
   "execution_count": 2,
   "id": "f0ce4925",
   "metadata": {},
   "outputs": [],
   "source": [
    "# Parameters:\n",
    "\n",
    "N = int(1E3) # Number of data points\n",
    "\n",
    "### Mass function: all mass in units of M_sun\n",
    "m_scale = -2.35 # exponent in exponential function\n",
    "m_min = 5 # minimum mass\n",
    "m_max = 100 # maximum mass\n",
    "m_bump = 35 # location of bump\n",
    "sigma_bump = 5 # width of bump\n",
    "\n",
    "frac_bump = 0.3 # fraction of BH in bump"
   ]
  },
  {
   "cell_type": "code",
   "execution_count": 3,
   "id": "e49b24c2",
   "metadata": {},
   "outputs": [],
   "source": [
    "def P(m, alpha=m_scale, mmin=m_min):\n",
    "    '''Converts X~Uniform[0,1] to bounded Power law with slope alpha and min value m_min'''    \n",
    "    ma = mmin**alpha\n",
    "    return (ma + (-ma)*m)**(1/alpha)\n",
    "\n",
    "def generate_masses(N_samples=N, f=frac_bump, m_b=m_bump, sigma=sigma_bump, alpha=m_scale, mmin=m_min):\n",
    "    '''Generate masses based on mass function for black holes.\n",
    "       Distribution follows power law with gaussian bump, tunable with arguments'''\n",
    "    \n",
    "    mass_array = np.zeros(N_samples)\n",
    "    in_bump = np.random.rand(N_samples) < f #pick which distribution each point goes in\n",
    "\n",
    "    for i, point in enumerate(in_bump):\n",
    "        if point: #if point is going into the bump distribution\n",
    "            # random seed\n",
    "            mass_array[i] = np.random.normal(m_b, sigma)\n",
    "\n",
    "        else: # going into exponential instead\n",
    "            mass_array[i] = P(np.random.rand(), alpha=alpha, mmin=mmin)\n",
    "    return mass_array"
   ]
  },
  {
   "cell_type": "code",
   "execution_count": 4,
   "id": "a102c1d4",
   "metadata": {},
   "outputs": [
    {
     "data": {
      "image/png": "[encoded data removed]",
      "text/plain": [
       "<Figure size 640x480 with 1 Axes>"
      ]
     },
     "metadata": {},
     "output_type": "display_data"
    }
   ],
   "source": [
    "### Plotting Power law just to make sure it works properly\n",
    "\n",
    "samples = generate_masses(int(1E5), f=0.5)\n",
    "\n",
    "plt.hist(samples, bins=np.logspace(np.log10(5), np.log10(max(samples)), 50))\n",
    "plt.yscale('log')\n",
    "plt.xscale('log')"
   ]
  },
  {
   "cell_type": "code",
   "execution_count": 5,
   "id": "42dbd5f3",
   "metadata": {},
   "outputs": [
    {
     "data": {
      "image/png": "[encoded data removed]",
      "text/plain": [
       "<Figure size 640x480 with 1 Axes>"
      ]
     },
     "metadata": {},
     "output_type": "display_data"
    }
   ],
   "source": [
    "mass_array = np.zeros(N)\n",
    "dl_array   = np.zeros(N)\n",
    "z_array    = np.zeros(N)\n",
    "\n",
    "in_bump = np.random.rand(N) < frac_bump #pick which distribution each point goes in\n",
    "\n",
    "for i, point in enumerate(in_bump):\n",
    "    if point: #if point is going into the bump distribution\n",
    "        mass_array[i] = np.random.normal(m_bump, sigma_bump)\n",
    "        \n",
    "    else: # going into exponential\n",
    "        mass_array[i] = P(np.random.rand())\n",
    "plt.hist(mass_array, bins=np.logspace(np.log10(m_min), np.log10(max(mass_array)), 50), density=True)\n",
    "plt.xscale('log')\n",
    "plt.yscale('log')"
   ]
  },
  {
   "cell_type": "code",
   "execution_count": null,
   "id": "400b081a",
   "metadata": {},
   "outputs": [],
   "source": []
  }
 ],
 "metadata": {
  "kernelspec": {
   "display_name": "Python 3 (ipykernel)",
   "language": "python",
   "name": "python3"
  },
  "language_info": {
   "codemirror_mode": {
    "name": "ipython",
    "version": 3
   },
   "file_extension": ".py",
   "mimetype": "text/x-python",
   "name": "python",
   "nbconvert_exporter": "python",
   "pygments_lexer": "ipython3",
   "version": "3.9.7"
  }
 },
 "nbformat": 4,
 "nbformat_minor": 5
}
