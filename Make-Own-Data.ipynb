{
 "cells": [
  {
   "cell_type": "markdown",
   "id": "2d7ec124",
   "metadata": {},
   "source": [
    "# Making Own Mock Data\n",
    "The last bit of mock data that was tried (in `work-with-true.ipynb`) already contained selection effects that distorted the 35M$_\\odot$ bump that the code was trying to pin down. To see if the algorithm can even handle it at all and to see what the selection effects do to the analysis, mock data data without selection effects need to be generated and tested, which is what we're doing here"
   ]
  },
  {
   "cell_type": "code",
   "execution_count": 1,
   "id": "f6529a1e",
   "metadata": {},
   "outputs": [],
   "source": [
    "import h5py\n",
    "import pandas as pd\n",
    "import glob\n",
    "import numpy as np\n",
    "from scipy.stats import gaussian_kde\n",
    "import pymc as pm\n",
    "from pylab import *\n",
    "import aesara.tensor as at\n",
    "import aesara.tensor.extra_ops as ate\n",
    "import arviz as az\n",
    "from astropy import units as u\n",
    "from astropy import constants as con\n",
    "from astropy.cosmology import Planck18\n",
    "from scipy.integrate import quad\n",
    "from tqdm import tqdm\n",
    "import warnings\n",
    "from scipy import integrate\n",
    "import seaborn as sns\n",
    "\n",
    "sns.set_context('notebook')\n",
    "sns.set_palette('colorblind')\n",
    "\n",
    "%matplotlib inline"
   ]
  },
  {
   "cell_type": "markdown",
   "id": "419f8ff6",
   "metadata": {},
   "source": [
    "## Generating data points"
   ]
  },
  {
   "cell_type": "code",
   "execution_count": 5,
   "id": "f0ce4925",
   "metadata": {},
   "outputs": [],
   "source": [
    "# Parameters:\n",
    "\n",
    "N = int(1E2) # Number of data points\n",
    "\n",
    "### Mass function: all mass in units of M_sun\n",
    "m_scale = -2.35 # exponent in exponential function\n",
    "m_min = 5 # minimum mass\n",
    "m_max = 100 # maximum mass\n",
    "m_bump = 35 # location of bump\n",
    "sigma_bump = 5 # width of bump\n",
    "\n",
    "frac_bump = 0.3 # fraction of BH in bump"
   ]
  },
  {
   "cell_type": "code",
   "execution_count": 11,
   "id": "42dbd5f3",
   "metadata": {},
   "outputs": [
    {
     "name": "stdout",
     "output_type": "stream",
     "text": [
      "[False False False False  True False False False False False False False\n",
      "  True  True False False  True False False False False False False False\n",
      " False  True False False  True  True False  True  True  True False False\n",
      "  True  True  True False False False  True False False False False  True\n",
      " False  True False  True False  True False False False False  True  True\n",
      " False  True False False False False False False  True False False False\n",
      " False False  True False False False False  True False False False False\n",
      " False False  True False False  True False False  True False False False\n",
      "  True  True False False]\n",
      "29\n"
     ]
    }
   ],
   "source": [
    "mass_array = np.zeros(N)\n",
    "dl_array   = np.zeros(N)\n",
    "z_array    = np.zeros(N)\n",
    "\n",
    "in_bump = np.random.rand(N) < frac_bump #pick which distribution each point goes in\n",
    "\n",
    "for point in in_bump:\n",
    "    if point: #if point is going into the bump distribution\n",
    "        # random seed\n",
    "        pass\n",
    "        \n",
    "    else: # going into exponential\n",
    "        pass"
   ]
  },
  {
   "cell_type": "code",
   "execution_count": null,
   "id": "a102c1d4",
   "metadata": {},
   "outputs": [],
   "source": []
  }
 ],
 "metadata": {
  "kernelspec": {
   "display_name": "Python 3 (ipykernel)",
   "language": "python",
   "name": "python3"
  },
  "language_info": {
   "codemirror_mode": {
    "name": "ipython",
    "version": 3
   },
   "file_extension": ".py",
   "mimetype": "text/x-python",
   "name": "python",
   "nbconvert_exporter": "python",
   "pygments_lexer": "ipython3",
   "version": "3.9.7"
  }
 },
 "nbformat": 4,
 "nbformat_minor": 5
}
